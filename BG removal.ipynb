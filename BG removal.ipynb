{
 "cells": [
  {
   "cell_type": "code",
   "execution_count": 1,
   "metadata": {},
   "outputs": [],
   "source": [
    "#Importing libraries\n",
    "import cv2\n",
    "import numpy as np\n",
    "import sys"
   ]
  },
  {
   "cell_type": "code",
   "execution_count": 2,
   "metadata": {},
   "outputs": [],
   "source": [
    "def resize(dst,img):\n",
    "    width = img.shape[1]\n",
    "    height = img.shape[0]\n",
    "    dim = (width, height)\n",
    "    resized = cv2.resize(dst, dim, interpolation = cv2.INTER_AREA)\n",
    "    return resized"
   ]
  },
  {
   "cell_type": "code",
   "execution_count": 3,
   "metadata": {},
   "outputs": [
    {
     "name": "stdout",
     "output_type": "stream",
     "text": [
      "<VideoCapture 0000025BE9E03D50>\n",
      "<VideoCapture 0000025BE6B1B6D0>\n",
      "Ready to Capture new Background\n",
      "Background Captured\n",
      "Ready to Capture new Background\n",
      "Ready to Capture new Background\n",
      "Background Captured\n",
      "Ready to Capture new Background\n",
      "Background Captured\n"
     ]
    },
    {
     "ename": "error",
     "evalue": "OpenCV(4.2.0) ..\\modules\\imgproc\\src\\resize.cpp:4045: error: (-215:Assertion failed) !ssize.empty() in function 'cv::resize'\n",
     "output_type": "error",
     "traceback": [
      "\u001b[1;31m---------------------------------------------------------------------------\u001b[0m",
      "\u001b[1;31merror\u001b[0m                                     Traceback (most recent call last)",
      "\u001b[1;32m<ipython-input-3-9879616487b9>\u001b[0m in \u001b[0;36m<module>\u001b[1;34m\u001b[0m\n\u001b[0;32m      9\u001b[0m         \u001b[0msuccess\u001b[0m\u001b[1;33m,\u001b[0m \u001b[0mimg\u001b[0m \u001b[1;33m=\u001b[0m \u001b[0mvideo\u001b[0m\u001b[1;33m.\u001b[0m\u001b[0mread\u001b[0m\u001b[1;33m(\u001b[0m\u001b[1;33m)\u001b[0m\u001b[1;33m\u001b[0m\u001b[1;33m\u001b[0m\u001b[0m\n\u001b[0;32m     10\u001b[0m         \u001b[0msuccess2\u001b[0m\u001b[1;33m,\u001b[0m \u001b[0mbg\u001b[0m \u001b[1;33m=\u001b[0m \u001b[0moceanVideo\u001b[0m\u001b[1;33m.\u001b[0m\u001b[0mread\u001b[0m\u001b[1;33m(\u001b[0m\u001b[1;33m)\u001b[0m\u001b[1;33m\u001b[0m\u001b[1;33m\u001b[0m\u001b[0m\n\u001b[1;32m---> 11\u001b[1;33m         \u001b[0mbg\u001b[0m \u001b[1;33m=\u001b[0m \u001b[0mresize\u001b[0m\u001b[1;33m(\u001b[0m\u001b[0mbg\u001b[0m\u001b[1;33m,\u001b[0m\u001b[0mref_img\u001b[0m\u001b[1;33m)\u001b[0m\u001b[1;33m\u001b[0m\u001b[1;33m\u001b[0m\u001b[0m\n\u001b[0m\u001b[0;32m     12\u001b[0m         \u001b[1;32mif\u001b[0m \u001b[0mflag\u001b[0m\u001b[1;33m==\u001b[0m\u001b[1;36m0\u001b[0m\u001b[1;33m:\u001b[0m\u001b[1;33m\u001b[0m\u001b[1;33m\u001b[0m\u001b[0m\n\u001b[0;32m     13\u001b[0m                 \u001b[0mref_img\u001b[0m \u001b[1;33m=\u001b[0m \u001b[0mimg\u001b[0m\u001b[1;33m\u001b[0m\u001b[1;33m\u001b[0m\u001b[0m\n",
      "\u001b[1;32m<ipython-input-2-34f0f076bd4b>\u001b[0m in \u001b[0;36mresize\u001b[1;34m(dst, img)\u001b[0m\n\u001b[0;32m      3\u001b[0m     \u001b[0mheight\u001b[0m \u001b[1;33m=\u001b[0m \u001b[0mimg\u001b[0m\u001b[1;33m.\u001b[0m\u001b[0mshape\u001b[0m\u001b[1;33m[\u001b[0m\u001b[1;36m0\u001b[0m\u001b[1;33m]\u001b[0m\u001b[1;33m\u001b[0m\u001b[1;33m\u001b[0m\u001b[0m\n\u001b[0;32m      4\u001b[0m     \u001b[0mdim\u001b[0m \u001b[1;33m=\u001b[0m \u001b[1;33m(\u001b[0m\u001b[0mwidth\u001b[0m\u001b[1;33m,\u001b[0m \u001b[0mheight\u001b[0m\u001b[1;33m)\u001b[0m\u001b[1;33m\u001b[0m\u001b[1;33m\u001b[0m\u001b[0m\n\u001b[1;32m----> 5\u001b[1;33m     \u001b[0mresized\u001b[0m \u001b[1;33m=\u001b[0m \u001b[0mcv2\u001b[0m\u001b[1;33m.\u001b[0m\u001b[0mresize\u001b[0m\u001b[1;33m(\u001b[0m\u001b[0mdst\u001b[0m\u001b[1;33m,\u001b[0m \u001b[0mdim\u001b[0m\u001b[1;33m,\u001b[0m \u001b[0minterpolation\u001b[0m \u001b[1;33m=\u001b[0m \u001b[0mcv2\u001b[0m\u001b[1;33m.\u001b[0m\u001b[0mINTER_AREA\u001b[0m\u001b[1;33m)\u001b[0m\u001b[1;33m\u001b[0m\u001b[1;33m\u001b[0m\u001b[0m\n\u001b[0m\u001b[0;32m      6\u001b[0m     \u001b[1;32mreturn\u001b[0m \u001b[0mresized\u001b[0m\u001b[1;33m\u001b[0m\u001b[1;33m\u001b[0m\u001b[0m\n",
      "\u001b[1;31merror\u001b[0m: OpenCV(4.2.0) ..\\modules\\imgproc\\src\\resize.cpp:4045: error: (-215:Assertion failed) !ssize.empty() in function 'cv::resize'\n"
     ]
    }
   ],
   "source": [
    "video = cv2.VideoCapture(0)\n",
    "print(video)\n",
    "oceanVideo = cv2.VideoCapture(\"ocean.mp4\")\n",
    "print(oceanVideo)\n",
    "success, ref_img = video.read()\n",
    "flag = 0\n",
    "\n",
    "while(1):\n",
    "        success, img = video.read()\n",
    "        success2, bg = oceanVideo.read()\n",
    "        bg = resize(bg,ref_img)\n",
    "        if flag==0:\n",
    "                ref_img = img\n",
    "        # create a mask\n",
    "        diff1=cv2.subtract(img,ref_img)\n",
    "        diff2=cv2.subtract(ref_img,img)\n",
    "        diff = diff1+diff2\n",
    "        diff[abs(diff)<13.0]=0\n",
    "        gray = cv2.cvtColor(diff.astype(np.uint8), cv2.COLOR_BGR2GRAY)\n",
    "        gray[np.abs(gray) < 15] = 0\n",
    "        fgmask = gray.astype(np.uint8)\n",
    "        fgmask[fgmask>0]=255\n",
    "        #invert the mask\n",
    "        fgmask_inv = cv2.bitwise_not(fgmask)\n",
    "        #use the masks to extract the relevant parts from FG and BG\n",
    "        fgimg = cv2.bitwise_and(img,img,mask = fgmask)\n",
    "        bgimg = cv2.bitwise_and(bg,bg,mask = fgmask_inv)\n",
    "        #combine both the BG and the FG images\n",
    "        dst = cv2.add(bgimg,fgimg)\n",
    "        cv2.imshow('Background Removal',dst)\n",
    "        key = cv2.waitKey(5) & 0xFF\n",
    "        if ord('q') == key:\n",
    "                break\n",
    "        elif ord('d') == key:\n",
    "                flag = 1\n",
    "                print(\"Background Captured\")\n",
    "        elif ord('r') == key:\n",
    "                flag = 0\n",
    "                print(\"Ready to Capture new Background\")\n",
    "\n",
    "cv2.destroyAllWindows()\n",
    "video.release()"
   ]
  },
  {
   "cell_type": "code",
   "execution_count": null,
   "metadata": {},
   "outputs": [],
   "source": []
  }
 ],
 "metadata": {
  "kernelspec": {
   "display_name": "Python 3",
   "language": "python",
   "name": "python3"
  },
  "language_info": {
   "codemirror_mode": {
    "name": "ipython",
    "version": 3
   },
   "file_extension": ".py",
   "mimetype": "text/x-python",
   "name": "python",
   "nbconvert_exporter": "python",
   "pygments_lexer": "ipython3",
   "version": "3.7.7"
  }
 },
 "nbformat": 4,
 "nbformat_minor": 4
}
